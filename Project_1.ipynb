{
 "cells": [
  {
   "cell_type": "code",
   "execution_count": 1,
   "metadata": {
    "id": "wnrXq5Deyub4"
   },
   "outputs": [],
   "source": [
    "import pandas as pd\n",
    "import numpy as np\n",
    "import seaborn as sns\n",
    "# import datetime\n",
    "from datetime import datetime\n",
    "from matplotlib import pyplot as plt\n",
    "\n",
    "import warnings\n",
    "warnings.filterwarnings(\"ignore\")"
   ]
  },
  {
   "cell_type": "code",
   "execution_count": 2,
   "metadata": {},
   "outputs": [
    {
     "name": "stderr",
     "output_type": "stream",
     "text": [
      "WARNING: Retrying (Retry(total=4, connect=None, read=None, redirect=None, status=None)) after connection broken by 'NewConnectionError('<pip._vendor.urllib3.connection.HTTPSConnection object at 0x000002249620AF70>: Failed to establish a new connection: [Errno 11001] getaddrinfo failed')': /simple/pmdarima/\n",
      "WARNING: Retrying (Retry(total=3, connect=None, read=None, redirect=None, status=None)) after connection broken by 'NewConnectionError('<pip._vendor.urllib3.connection.HTTPSConnection object at 0x000002249622F1C0>: Failed to establish a new connection: [Errno 11001] getaddrinfo failed')': /simple/pmdarima/\n",
      "WARNING: Retrying (Retry(total=2, connect=None, read=None, redirect=None, status=None)) after connection broken by 'NewConnectionError('<pip._vendor.urllib3.connection.HTTPSConnection object at 0x000002249622F370>: Failed to establish a new connection: [Errno 11001] getaddrinfo failed')': /simple/pmdarima/\n",
      "WARNING: Retrying (Retry(total=1, connect=None, read=None, redirect=None, status=None)) after connection broken by 'NewConnectionError('<pip._vendor.urllib3.connection.HTTPSConnection object at 0x000002249622F520>: Failed to establish a new connection: [Errno 11001] getaddrinfo failed')': /simple/pmdarima/\n",
      "WARNING: Retrying (Retry(total=0, connect=None, read=None, redirect=None, status=None)) after connection broken by 'NewConnectionError('<pip._vendor.urllib3.connection.HTTPSConnection object at 0x000002249622F6D0>: Failed to establish a new connection: [Errno 11001] getaddrinfo failed')': /simple/pmdarima/\n",
      "ERROR: Could not find a version that satisfies the requirement pmdarima (from versions: none)\n",
      "ERROR: No matching distribution found for pmdarima\n"
     ]
    },
    {
     "ename": "ModuleNotFoundError",
     "evalue": "No module named 'pmdarima'",
     "output_type": "error",
     "traceback": [
      "\u001b[1;31m---------------------------------------------------------------------------\u001b[0m",
      "\u001b[1;31mModuleNotFoundError\u001b[0m                       Traceback (most recent call last)",
      "Input \u001b[1;32mIn [2]\u001b[0m, in \u001b[0;36m<cell line: 2>\u001b[1;34m()\u001b[0m\n\u001b[0;32m      1\u001b[0m get_ipython()\u001b[38;5;241m.\u001b[39msystem(\u001b[38;5;124m'\u001b[39m\u001b[38;5;124mpip install pmdarima --quiet\u001b[39m\u001b[38;5;124m'\u001b[39m)\n\u001b[1;32m----> 2\u001b[0m \u001b[38;5;28;01mimport\u001b[39;00m \u001b[38;5;21;01mpmdarima\u001b[39;00m \u001b[38;5;28;01mas\u001b[39;00m \u001b[38;5;21;01mpm\u001b[39;00m\n",
      "\u001b[1;31mModuleNotFoundError\u001b[0m: No module named 'pmdarima'"
     ]
    }
   ],
   "source": [
    "!pip install pmdarima --quiet\n",
    "import pmdarima as pm\n"
   ]
  },
  {
   "cell_type": "code",
   "execution_count": 3,
   "metadata": {},
   "outputs": [],
   "source": [
    "\n",
    "!pip install tvdatafeed --quiet\n",
    "from tvDatafeed import TvDatafeed ,Interval"
   ]
  },
  {
   "cell_type": "code",
   "execution_count": 4,
   "metadata": {
    "colab": {
     "base_uri": "https://localhost:8080/",
     "height": 472
    },
    "id": "0b5ac964-1bf4-49de-9bfb-b73098e25ff6",
    "outputId": "debcf7a5-df45-4945-e7a0-178e24556d93"
   },
   "outputs": [
    {
     "name": "stderr",
     "output_type": "stream",
     "text": [
      "you are using nologin method, data you access may be limited\n"
     ]
    },
    {
     "ename": "WebSocketAddressException",
     "evalue": "[Errno 11001] getaddrinfo failed",
     "output_type": "error",
     "traceback": [
      "\u001b[1;31m---------------------------------------------------------------------------\u001b[0m",
      "\u001b[1;31mgaierror\u001b[0m                                  Traceback (most recent call last)",
      "File \u001b[1;32m~\\anaconda3\\lib\\site-packages\\websocket\\_http.py:145\u001b[0m, in \u001b[0;36m_get_addrinfo_list\u001b[1;34m(hostname, port, is_secure, proxy)\u001b[0m\n\u001b[0;32m    144\u001b[0m \u001b[38;5;28;01mif\u001b[39;00m \u001b[38;5;129;01mnot\u001b[39;00m phost:\n\u001b[1;32m--> 145\u001b[0m     addrinfo_list \u001b[38;5;241m=\u001b[39m \u001b[43msocket\u001b[49m\u001b[38;5;241;43m.\u001b[39;49m\u001b[43mgetaddrinfo\u001b[49m\u001b[43m(\u001b[49m\n\u001b[0;32m    146\u001b[0m \u001b[43m        \u001b[49m\u001b[43mhostname\u001b[49m\u001b[43m,\u001b[49m\u001b[43m \u001b[49m\u001b[43mport\u001b[49m\u001b[43m,\u001b[49m\u001b[43m \u001b[49m\u001b[38;5;241;43m0\u001b[39;49m\u001b[43m,\u001b[49m\u001b[43m \u001b[49m\u001b[43msocket\u001b[49m\u001b[38;5;241;43m.\u001b[39;49m\u001b[43mSOCK_STREAM\u001b[49m\u001b[43m,\u001b[49m\u001b[43m \u001b[49m\u001b[43msocket\u001b[49m\u001b[38;5;241;43m.\u001b[39;49m\u001b[43mSOL_TCP\u001b[49m\u001b[43m)\u001b[49m\n\u001b[0;32m    147\u001b[0m     \u001b[38;5;28;01mreturn\u001b[39;00m addrinfo_list, \u001b[38;5;28;01mFalse\u001b[39;00m, \u001b[38;5;28;01mNone\u001b[39;00m\n",
      "File \u001b[1;32m~\\anaconda3\\lib\\socket.py:954\u001b[0m, in \u001b[0;36mgetaddrinfo\u001b[1;34m(host, port, family, type, proto, flags)\u001b[0m\n\u001b[0;32m    953\u001b[0m addrlist \u001b[38;5;241m=\u001b[39m []\n\u001b[1;32m--> 954\u001b[0m \u001b[38;5;28;01mfor\u001b[39;00m res \u001b[38;5;129;01min\u001b[39;00m \u001b[43m_socket\u001b[49m\u001b[38;5;241;43m.\u001b[39;49m\u001b[43mgetaddrinfo\u001b[49m\u001b[43m(\u001b[49m\u001b[43mhost\u001b[49m\u001b[43m,\u001b[49m\u001b[43m \u001b[49m\u001b[43mport\u001b[49m\u001b[43m,\u001b[49m\u001b[43m \u001b[49m\u001b[43mfamily\u001b[49m\u001b[43m,\u001b[49m\u001b[43m \u001b[49m\u001b[38;5;28;43mtype\u001b[39;49m\u001b[43m,\u001b[49m\u001b[43m \u001b[49m\u001b[43mproto\u001b[49m\u001b[43m,\u001b[49m\u001b[43m \u001b[49m\u001b[43mflags\u001b[49m\u001b[43m)\u001b[49m:\n\u001b[0;32m    955\u001b[0m     af, socktype, proto, canonname, sa \u001b[38;5;241m=\u001b[39m res\n",
      "\u001b[1;31mgaierror\u001b[0m: [Errno 11001] getaddrinfo failed",
      "\nDuring handling of the above exception, another exception occurred:\n",
      "\u001b[1;31mWebSocketAddressException\u001b[0m                 Traceback (most recent call last)",
      "Input \u001b[1;32mIn [4]\u001b[0m, in \u001b[0;36m<cell line: 2>\u001b[1;34m()\u001b[0m\n\u001b[0;32m      1\u001b[0m tv \u001b[38;5;241m=\u001b[39m TvDatafeed()\n\u001b[1;32m----> 2\u001b[0m data \u001b[38;5;241m=\u001b[39m \u001b[43mtv\u001b[49m\u001b[38;5;241;43m.\u001b[39;49m\u001b[43mget_hist\u001b[49m\u001b[43m(\u001b[49m\u001b[43msymbol\u001b[49m\u001b[38;5;241;43m=\u001b[39;49m\u001b[38;5;124;43m'\u001b[39;49m\u001b[38;5;124;43mTCS\u001b[39;49m\u001b[38;5;124;43m'\u001b[39;49m\u001b[43m,\u001b[49m\u001b[43mexchange\u001b[49m\u001b[38;5;241;43m=\u001b[39;49m\u001b[38;5;124;43m'\u001b[39;49m\u001b[38;5;124;43mNSE\u001b[39;49m\u001b[38;5;124;43m'\u001b[39;49m\u001b[43m,\u001b[49m\u001b[43mn_bars\u001b[49m\u001b[38;5;241;43m=\u001b[39;49m\u001b[38;5;241;43m5000\u001b[39;49m\u001b[43m)\u001b[49m\n\u001b[0;32m      3\u001b[0m data[\u001b[38;5;124m'\u001b[39m\u001b[38;5;124mdate\u001b[39m\u001b[38;5;124m'\u001b[39m] \u001b[38;5;241m=\u001b[39m data\u001b[38;5;241m.\u001b[39mindex\u001b[38;5;241m.\u001b[39mastype(\u001b[38;5;28mstr\u001b[39m)\n\u001b[0;32m      4\u001b[0m new \u001b[38;5;241m=\u001b[39m data[\u001b[38;5;124m'\u001b[39m\u001b[38;5;124mdate\u001b[39m\u001b[38;5;124m'\u001b[39m]\u001b[38;5;241m.\u001b[39mstr\u001b[38;5;241m.\u001b[39msplit(\u001b[38;5;124m'\u001b[39m\u001b[38;5;124m \u001b[39m\u001b[38;5;124m'\u001b[39m,expand\u001b[38;5;241m=\u001b[39m\u001b[38;5;28;01mTrue\u001b[39;00m)\n",
      "File \u001b[1;32m~\\anaconda3\\lib\\site-packages\\tvDatafeed\\main.py:216\u001b[0m, in \u001b[0;36mTvDatafeed.get_hist\u001b[1;34m(self, symbol, exchange, interval, n_bars, fut_contract, extended_session)\u001b[0m\n\u001b[0;32m    210\u001b[0m symbol \u001b[38;5;241m=\u001b[39m \u001b[38;5;28mself\u001b[39m\u001b[38;5;241m.\u001b[39m__format_symbol(\n\u001b[0;32m    211\u001b[0m     symbol\u001b[38;5;241m=\u001b[39msymbol, exchange\u001b[38;5;241m=\u001b[39mexchange, contract\u001b[38;5;241m=\u001b[39mfut_contract\n\u001b[0;32m    212\u001b[0m )\n\u001b[0;32m    214\u001b[0m interval \u001b[38;5;241m=\u001b[39m interval\u001b[38;5;241m.\u001b[39mvalue\n\u001b[1;32m--> 216\u001b[0m \u001b[38;5;28;43mself\u001b[39;49m\u001b[38;5;241;43m.\u001b[39;49m\u001b[43m__create_connection\u001b[49m\u001b[43m(\u001b[49m\u001b[43m)\u001b[49m\n\u001b[0;32m    218\u001b[0m \u001b[38;5;28mself\u001b[39m\u001b[38;5;241m.\u001b[39m__send_message(\u001b[38;5;124m\"\u001b[39m\u001b[38;5;124mset_auth_token\u001b[39m\u001b[38;5;124m\"\u001b[39m, [\u001b[38;5;28mself\u001b[39m\u001b[38;5;241m.\u001b[39mtoken])\n\u001b[0;32m    219\u001b[0m \u001b[38;5;28mself\u001b[39m\u001b[38;5;241m.\u001b[39m__send_message(\u001b[38;5;124m\"\u001b[39m\u001b[38;5;124mchart_create_session\u001b[39m\u001b[38;5;124m\"\u001b[39m, [\u001b[38;5;28mself\u001b[39m\u001b[38;5;241m.\u001b[39mchart_session, \u001b[38;5;124m\"\u001b[39m\u001b[38;5;124m\"\u001b[39m])\n",
      "File \u001b[1;32m~\\anaconda3\\lib\\site-packages\\tvDatafeed\\main.py:86\u001b[0m, in \u001b[0;36mTvDatafeed.__create_connection\u001b[1;34m(self)\u001b[0m\n\u001b[0;32m     84\u001b[0m \u001b[38;5;28;01mdef\u001b[39;00m \u001b[38;5;21m__create_connection\u001b[39m(\u001b[38;5;28mself\u001b[39m):\n\u001b[0;32m     85\u001b[0m     logging\u001b[38;5;241m.\u001b[39mdebug(\u001b[38;5;124m\"\u001b[39m\u001b[38;5;124mcreating websocket connection\u001b[39m\u001b[38;5;124m\"\u001b[39m)\n\u001b[1;32m---> 86\u001b[0m     \u001b[38;5;28mself\u001b[39m\u001b[38;5;241m.\u001b[39mws \u001b[38;5;241m=\u001b[39m \u001b[43mcreate_connection\u001b[49m\u001b[43m(\u001b[49m\n\u001b[0;32m     87\u001b[0m \u001b[43m        \u001b[49m\u001b[38;5;124;43m\"\u001b[39;49m\u001b[38;5;124;43mwss://data.tradingview.com/socket.io/websocket\u001b[39;49m\u001b[38;5;124;43m\"\u001b[39;49m\u001b[43m,\u001b[49m\u001b[43m \u001b[49m\u001b[43mheaders\u001b[49m\u001b[38;5;241;43m=\u001b[39;49m\u001b[38;5;28;43mself\u001b[39;49m\u001b[38;5;241;43m.\u001b[39;49m\u001b[43m__ws_headers\u001b[49m\u001b[43m,\u001b[49m\u001b[43m \u001b[49m\u001b[43mtimeout\u001b[49m\u001b[38;5;241;43m=\u001b[39;49m\u001b[38;5;28;43mself\u001b[39;49m\u001b[38;5;241;43m.\u001b[39;49m\u001b[43m__ws_timeout\u001b[49m\n\u001b[0;32m     88\u001b[0m \u001b[43m    \u001b[49m\u001b[43m)\u001b[49m\n",
      "File \u001b[1;32m~\\anaconda3\\lib\\site-packages\\websocket\\_core.py:592\u001b[0m, in \u001b[0;36mcreate_connection\u001b[1;34m(url, timeout, class_, **options)\u001b[0m\n\u001b[0;32m    587\u001b[0m websock \u001b[38;5;241m=\u001b[39m class_(sockopt\u001b[38;5;241m=\u001b[39msockopt, sslopt\u001b[38;5;241m=\u001b[39msslopt,\n\u001b[0;32m    588\u001b[0m                  fire_cont_frame\u001b[38;5;241m=\u001b[39mfire_cont_frame,\n\u001b[0;32m    589\u001b[0m                  enable_multithread\u001b[38;5;241m=\u001b[39menable_multithread,\n\u001b[0;32m    590\u001b[0m                  skip_utf8_validation\u001b[38;5;241m=\u001b[39mskip_utf8_validation, \u001b[38;5;241m*\u001b[39m\u001b[38;5;241m*\u001b[39moptions)\n\u001b[0;32m    591\u001b[0m websock\u001b[38;5;241m.\u001b[39msettimeout(timeout \u001b[38;5;28;01mif\u001b[39;00m timeout \u001b[38;5;129;01mis\u001b[39;00m \u001b[38;5;129;01mnot\u001b[39;00m \u001b[38;5;28;01mNone\u001b[39;00m \u001b[38;5;28;01melse\u001b[39;00m getdefaulttimeout())\n\u001b[1;32m--> 592\u001b[0m websock\u001b[38;5;241m.\u001b[39mconnect(url, \u001b[38;5;241m*\u001b[39m\u001b[38;5;241m*\u001b[39moptions)\n\u001b[0;32m    593\u001b[0m \u001b[38;5;28;01mreturn\u001b[39;00m websock\n",
      "File \u001b[1;32m~\\anaconda3\\lib\\site-packages\\websocket\\_core.py:248\u001b[0m, in \u001b[0;36mWebSocket.connect\u001b[1;34m(self, url, **options)\u001b[0m\n\u001b[0;32m    204\u001b[0m \u001b[38;5;124;03m\"\"\"\u001b[39;00m\n\u001b[0;32m    205\u001b[0m \u001b[38;5;124;03mConnect to url. url is websocket url scheme.\u001b[39;00m\n\u001b[0;32m    206\u001b[0m \u001b[38;5;124;03mie. ws://host:port/resource\u001b[39;00m\n\u001b[1;32m   (...)\u001b[0m\n\u001b[0;32m    245\u001b[0m \u001b[38;5;124;03m            pre-initialized stream socket.\u001b[39;00m\n\u001b[0;32m    246\u001b[0m \u001b[38;5;124;03m\"\"\"\u001b[39;00m\n\u001b[0;32m    247\u001b[0m \u001b[38;5;28mself\u001b[39m\u001b[38;5;241m.\u001b[39msock_opt\u001b[38;5;241m.\u001b[39mtimeout \u001b[38;5;241m=\u001b[39m options\u001b[38;5;241m.\u001b[39mget(\u001b[38;5;124m'\u001b[39m\u001b[38;5;124mtimeout\u001b[39m\u001b[38;5;124m'\u001b[39m, \u001b[38;5;28mself\u001b[39m\u001b[38;5;241m.\u001b[39msock_opt\u001b[38;5;241m.\u001b[39mtimeout)\n\u001b[1;32m--> 248\u001b[0m \u001b[38;5;28mself\u001b[39m\u001b[38;5;241m.\u001b[39msock, addrs \u001b[38;5;241m=\u001b[39m \u001b[43mconnect\u001b[49m\u001b[43m(\u001b[49m\u001b[43murl\u001b[49m\u001b[43m,\u001b[49m\u001b[43m \u001b[49m\u001b[38;5;28;43mself\u001b[39;49m\u001b[38;5;241;43m.\u001b[39;49m\u001b[43msock_opt\u001b[49m\u001b[43m,\u001b[49m\u001b[43m \u001b[49m\u001b[43mproxy_info\u001b[49m\u001b[43m(\u001b[49m\u001b[38;5;241;43m*\u001b[39;49m\u001b[38;5;241;43m*\u001b[39;49m\u001b[43moptions\u001b[49m\u001b[43m)\u001b[49m\u001b[43m,\u001b[49m\n\u001b[0;32m    249\u001b[0m \u001b[43m                           \u001b[49m\u001b[43moptions\u001b[49m\u001b[38;5;241;43m.\u001b[39;49m\u001b[43mpop\u001b[49m\u001b[43m(\u001b[49m\u001b[38;5;124;43m'\u001b[39;49m\u001b[38;5;124;43msocket\u001b[39;49m\u001b[38;5;124;43m'\u001b[39;49m\u001b[43m,\u001b[49m\u001b[43m \u001b[49m\u001b[38;5;28;43;01mNone\u001b[39;49;00m\u001b[43m)\u001b[49m\u001b[43m)\u001b[49m\n\u001b[0;32m    251\u001b[0m \u001b[38;5;28;01mtry\u001b[39;00m:\n\u001b[0;32m    252\u001b[0m     \u001b[38;5;28mself\u001b[39m\u001b[38;5;241m.\u001b[39mhandshake_response \u001b[38;5;241m=\u001b[39m handshake(\u001b[38;5;28mself\u001b[39m\u001b[38;5;241m.\u001b[39msock, \u001b[38;5;241m*\u001b[39maddrs, \u001b[38;5;241m*\u001b[39m\u001b[38;5;241m*\u001b[39moptions)\n",
      "File \u001b[1;32m~\\anaconda3\\lib\\site-packages\\websocket\\_http.py:112\u001b[0m, in \u001b[0;36mconnect\u001b[1;34m(url, options, proxy, socket)\u001b[0m\n\u001b[0;32m    109\u001b[0m \u001b[38;5;28;01mif\u001b[39;00m socket:\n\u001b[0;32m    110\u001b[0m     \u001b[38;5;28;01mreturn\u001b[39;00m socket, (hostname, port, resource)\n\u001b[1;32m--> 112\u001b[0m addrinfo_list, need_tunnel, auth \u001b[38;5;241m=\u001b[39m \u001b[43m_get_addrinfo_list\u001b[49m\u001b[43m(\u001b[49m\n\u001b[0;32m    113\u001b[0m \u001b[43m    \u001b[49m\u001b[43mhostname\u001b[49m\u001b[43m,\u001b[49m\u001b[43m \u001b[49m\u001b[43mport\u001b[49m\u001b[43m,\u001b[49m\u001b[43m \u001b[49m\u001b[43mis_secure\u001b[49m\u001b[43m,\u001b[49m\u001b[43m \u001b[49m\u001b[43mproxy\u001b[49m\u001b[43m)\u001b[49m\n\u001b[0;32m    114\u001b[0m \u001b[38;5;28;01mif\u001b[39;00m \u001b[38;5;129;01mnot\u001b[39;00m addrinfo_list:\n\u001b[0;32m    115\u001b[0m     \u001b[38;5;28;01mraise\u001b[39;00m WebSocketException(\n\u001b[0;32m    116\u001b[0m         \u001b[38;5;124m\"\u001b[39m\u001b[38;5;124mHost not found.: \u001b[39m\u001b[38;5;124m\"\u001b[39m \u001b[38;5;241m+\u001b[39m hostname \u001b[38;5;241m+\u001b[39m \u001b[38;5;124m\"\u001b[39m\u001b[38;5;124m:\u001b[39m\u001b[38;5;124m\"\u001b[39m \u001b[38;5;241m+\u001b[39m \u001b[38;5;28mstr\u001b[39m(port))\n",
      "File \u001b[1;32m~\\anaconda3\\lib\\site-packages\\websocket\\_http.py:157\u001b[0m, in \u001b[0;36m_get_addrinfo_list\u001b[1;34m(hostname, port, is_secure, proxy)\u001b[0m\n\u001b[0;32m    155\u001b[0m         \u001b[38;5;28;01mreturn\u001b[39;00m addrinfo_list, \u001b[38;5;28;01mTrue\u001b[39;00m, pauth\n\u001b[0;32m    156\u001b[0m \u001b[38;5;28;01mexcept\u001b[39;00m socket\u001b[38;5;241m.\u001b[39mgaierror \u001b[38;5;28;01mas\u001b[39;00m e:\n\u001b[1;32m--> 157\u001b[0m     \u001b[38;5;28;01mraise\u001b[39;00m WebSocketAddressException(e)\n",
      "\u001b[1;31mWebSocketAddressException\u001b[0m: [Errno 11001] getaddrinfo failed"
     ]
    }
   ],
   "source": [
    "tv = TvDatafeed()\n",
    "data = tv.get_hist(symbol='TCS',exchange='NSE',n_bars=5000)\n",
    "data['date'] = data.index.astype(str)\n",
    "new = data['date'].str.split(' ',expand=True)\n",
    "data['date'] = new[0]\n",
    "data['date'] = pd.to_datetime(data['date'])\n",
    "data = data.set_index('date')\n",
    "data"
   ]
  },
  {
   "cell_type": "code",
   "execution_count": null,
   "metadata": {
    "colab": {
     "base_uri": "https://localhost:8080/",
     "height": 455
    },
    "id": "1cd4ZXR3JxBH",
    "outputId": "f7da9ee8-df4e-4e53-9ca4-ebcd92916d0f"
   },
   "outputs": [],
   "source": [
    "timeseriesdf = data[['close']]\n",
    "timeseriesdf"
   ]
  },
  {
   "cell_type": "code",
   "execution_count": null,
   "metadata": {
    "colab": {
     "base_uri": "https://localhost:8080/"
    },
    "id": "9FLNUIVOKfU-",
    "outputId": "d06c5066-0d09-4614-bebe-cda415aefee0"
   },
   "outputs": [],
   "source": [
    "timeseriessq = data['close']\n",
    "timeseriessq"
   ]
  },
  {
   "cell_type": "code",
   "execution_count": null,
   "metadata": {
    "colab": {
     "base_uri": "https://localhost:8080/"
    },
    "id": "caf32c3e-c4ba-4e97-abf9-ccfcae62fc57",
    "outputId": "63ccc575-388b-4883-8e21-b21709b3f1c5"
   },
   "outputs": [],
   "source": [
    "data.info()"
   ]
  },
  {
   "cell_type": "code",
   "execution_count": null,
   "metadata": {
    "colab": {
     "base_uri": "https://localhost:8080/"
    },
    "id": "f62d36a8-31f1-463d-9125-ed01ce437407",
    "outputId": "6f777431-9a2e-4c90-c77e-fc3ff702ffd1"
   },
   "outputs": [],
   "source": [
    "data.index"
   ]
  },
  {
   "cell_type": "markdown",
   "metadata": {
    "id": "2a147b27-5cc5-4108-829f-49b37947d4b9"
   },
   "source": [
    "# Visualisation"
   ]
  },
  {
   "cell_type": "code",
   "execution_count": null,
   "metadata": {
    "colab": {
     "base_uri": "https://localhost:8080/",
     "height": 559
    },
    "id": "zzoNlTbFWcw_",
    "outputId": "b02a4a4b-c147-426e-d41a-38f65eccc80b"
   },
   "outputs": [],
   "source": [
    "plt.figure(figsize=(20,8))\n",
    "fig = cf.Figure(data=[cf.Candlestick(x=data.index, \n",
    "                open=data['open'],\n",
    "                high = data['high'],\n",
    "                low = data['low'],\n",
    "                close = data['close'])])\n",
    "fig.update_layout(xaxis_rangeslider_visible=False)\n",
    "fig.show()"
   ]
  },
  {
   "cell_type": "code",
   "execution_count": null,
   "metadata": {
    "colab": {
     "base_uri": "https://localhost:8080/",
     "height": 500
    },
    "id": "b374b547-698a-418b-a7dd-c9341377bf19",
    "outputId": "401c6108-8a39-4c24-e0e9-c6bf6a585483"
   },
   "outputs": [],
   "source": [
    "plt.figure(figsize = (20,8))\n",
    "plt.plot(data.close)"
   ]
  },
  {
   "cell_type": "markdown",
   "metadata": {
    "id": "917fa0b7-fe54-44c4-9ced-b835ea4b5be8"
   },
   "source": [
    "#### Histogram and Density Plots"
   ]
  },
  {
   "cell_type": "code",
   "execution_count": null,
   "metadata": {
    "colab": {
     "base_uri": "https://localhost:8080/",
     "height": 1000
    },
    "id": "2984fcf9-8532-45d7-866b-c4da43d66103",
    "outputId": "957bc9c2-945b-47b8-9a5d-fcac346d3486"
   },
   "outputs": [],
   "source": [
    "# create a histogram plot\n",
    "plt.rc(\"figure\", figsize=(20,20))\n",
    "data.hist()"
   ]
  },
  {
   "cell_type": "markdown",
   "metadata": {
    "id": "3f81632c-a5f4-4039-8d5e-9cc0c87d731d"
   },
   "source": [
    "#### Box and Whisker Plots by Interval"
   ]
  },
  {
   "cell_type": "code",
   "execution_count": null,
   "metadata": {
    "colab": {
     "base_uri": "https://localhost:8080/",
     "height": 455
    },
    "id": "4691b322-b32d-4e6a-bf2a-1699aad044c7",
    "outputId": "bbbaaff7-94db-4d00-d99a-ab8939649e5f"
   },
   "outputs": [],
   "source": [
    "# create a boxplot of yearly data\n",
    "databoxplot = data\n",
    "databoxplot['date'] = databoxplot.index.astype(str)\n",
    "new = databoxplot['date'].str.split(' ',expand=True)\n",
    "databoxplot['date'] = new[0]\n",
    "databoxplot = databoxplot[['date','close']]\n",
    "databoxplot['year'] = databoxplot['date'].str[:4].astype(int)\n",
    "databoxplot['date1'] = databoxplot['date'].str[5:]\n",
    "databoxplot"
   ]
  },
  {
   "cell_type": "code",
   "execution_count": null,
   "metadata": {
    "colab": {
     "base_uri": "https://localhost:8080/"
    },
    "id": "XKCZr35gMgIQ",
    "outputId": "74ed1cf4-b0b6-4f8c-de02-8ad956858704"
   },
   "outputs": [],
   "source": [
    "databoxplot.info()"
   ]
  },
  {
   "cell_type": "code",
   "execution_count": null,
   "metadata": {
    "colab": {
     "base_uri": "https://localhost:8080/",
     "height": 519
    },
    "id": "i-UtglRf7Dsi",
    "outputId": "5de608c3-27f1-43b1-c82c-40da260044ee"
   },
   "outputs": [],
   "source": [
    "years = pd.pivot_table(databoxplot,index = 'date1', values = 'close',columns='year', aggfunc = sum)\n",
    "\n",
    "years"
   ]
  },
  {
   "cell_type": "code",
   "execution_count": null,
   "metadata": {
    "colab": {
     "base_uri": "https://localhost:8080/",
     "height": 500
    },
    "id": "dd3f52e4-ebf0-438a-a964-4d96e5ec6483",
    "outputId": "59c481b6-792a-4a21-daf1-a96e854996c2"
   },
   "outputs": [],
   "source": [
    "plt.figure(figsize = (20,8))\n",
    "years.boxplot()"
   ]
  },
  {
   "cell_type": "markdown",
   "metadata": {
    "id": "23d39362-2fdb-4114-b325-d5499265830c"
   },
   "source": [
    "#### Lag plot"
   ]
  },
  {
   "cell_type": "code",
   "execution_count": null,
   "metadata": {
    "colab": {
     "base_uri": "https://localhost:8080/",
     "height": 514
    },
    "id": "e54e5159-ce12-4874-9329-b0d406229d4f",
    "outputId": "ecbdbb25-1098-414f-dd07-0c740d6ba954"
   },
   "outputs": [],
   "source": [
    "# create a scatter plot\n",
    "plt.figure(figsize = (20,8))\n",
    "pd.plotting.lag_plot(timeseriesdf)"
   ]
  },
  {
   "cell_type": "code",
   "execution_count": null,
   "metadata": {
    "colab": {
     "base_uri": "https://localhost:8080/",
     "height": 499
    },
    "id": "ab934ac1-3205-462c-821c-7e4590887b4d",
    "outputId": "0f669da5-0a5e-45e9-ed38-5e061304c8fa"
   },
   "outputs": [],
   "source": [
    "# create an autocorrelation plot\n",
    "from statsmodels.graphics.tsaplots import plot_acf\n",
    "\n",
    "plt.rc(\"figure\", figsize=(20,8))\n",
    "plot_acf(timeseriesdf, lags=4000)\n",
    "plt.show()"
   ]
  },
  {
   "cell_type": "markdown",
   "metadata": {
    "id": "498ca467-77d3-47a8-b95b-bb991710bc2f"
   },
   "source": [
    "# Sampling and Transformation"
   ]
  },
  {
   "cell_type": "code",
   "execution_count": null,
   "metadata": {
    "colab": {
     "base_uri": "https://localhost:8080/"
    },
    "id": "WMQ0lZ0EPcVa",
    "outputId": "d738082e-051a-4efa-9feb-2cc292646e65"
   },
   "outputs": [],
   "source": [
    "timeseriessq"
   ]
  },
  {
   "cell_type": "markdown",
   "metadata": {
    "id": "12b41a0f-1b01-4720-98cb-aa7e9111a570"
   },
   "source": [
    "#### Upsampling Data"
   ]
  },
  {
   "cell_type": "code",
   "execution_count": null,
   "metadata": {
    "colab": {
     "base_uri": "https://localhost:8080/"
    },
    "id": "138113e6-624d-4de0-aecf-24623f43a17a",
    "outputId": "bb136c16-c884-40ac-81b7-3ffb90f9e750"
   },
   "outputs": [],
   "source": [
    "upsampled = timeseriessq.resample('H').mean()\n",
    "upsampled.head(25)"
   ]
  },
  {
   "cell_type": "code",
   "execution_count": null,
   "metadata": {
    "colab": {
     "base_uri": "https://localhost:8080/"
    },
    "id": "3eea26f2-6aec-4937-ad3e-2967c0f79838",
    "outputId": "cf4cd0bd-7a42-4d56-ffac-a406f9aa10e8"
   },
   "outputs": [],
   "source": [
    "upsampled.shape"
   ]
  },
  {
   "cell_type": "markdown",
   "metadata": {
    "id": "57c7dffd-212a-4661-a9cd-463c5d2f612e"
   },
   "source": [
    "#### Interpolate the missing value"
   ]
  },
  {
   "cell_type": "code",
   "execution_count": null,
   "metadata": {
    "colab": {
     "base_uri": "https://localhost:8080/"
    },
    "id": "57e840a9-92fd-4d2d-ba51-6f11af58cf57",
    "outputId": "3d4c5b09-c536-491c-ebed-d89818428d42"
   },
   "outputs": [],
   "source": [
    "interpolated = upsampled.interpolate(method='linear')\n",
    "interpolated.head(25)"
   ]
  },
  {
   "cell_type": "code",
   "execution_count": null,
   "metadata": {
    "colab": {
     "base_uri": "https://localhost:8080/",
     "height": 514
    },
    "id": "876d42ff-cecd-4e32-992b-96d483a5bd81",
    "outputId": "2e34a48d-0486-4325-f409-c20ddfae3566"
   },
   "outputs": [],
   "source": [
    "plt.rc(\"figure\", figsize=(20,8))\n",
    "interpolated.plot()"
   ]
  },
  {
   "cell_type": "markdown",
   "metadata": {
    "id": "4bb8180f-0f39-4e65-baf6-2d56d314271e"
   },
   "source": [
    "#### Downsampling Data"
   ]
  },
  {
   "cell_type": "code",
   "execution_count": null,
   "metadata": {
    "id": "e82ef4c7-4e4d-4b10-98a9-d5f1590169a9"
   },
   "outputs": [],
   "source": [
    "# downsample to quarterly intervals\n",
    "resample = timeseriessq.resample('Q')\n",
    "downsampled = resample.mean()"
   ]
  },
  {
   "cell_type": "code",
   "execution_count": null,
   "metadata": {
    "colab": {
     "base_uri": "https://localhost:8080/"
    },
    "id": "777323a2-b91d-44a5-bf1c-a1dbcb91450d",
    "outputId": "04355f82-6fdd-45a5-9c65-2fd437b4d4c7"
   },
   "outputs": [],
   "source": [
    "downsampled.head()"
   ]
  },
  {
   "cell_type": "code",
   "execution_count": null,
   "metadata": {
    "colab": {
     "base_uri": "https://localhost:8080/",
     "height": 514
    },
    "id": "75ab5007-4b7f-46b4-9481-df39bbe56e5a",
    "outputId": "8865d86e-784f-48d9-8fe5-a80d2dfd9635"
   },
   "outputs": [],
   "source": [
    "plt.rc(\"figure\", figsize=(20,8))\n",
    "downsampled.plot()"
   ]
  },
  {
   "cell_type": "markdown",
   "metadata": {
    "id": "182b1c30-38ff-4785-ab94-9b0690818904"
   },
   "source": [
    "#### Tranformations"
   ]
  },
  {
   "cell_type": "code",
   "execution_count": null,
   "metadata": {
    "colab": {
     "base_uri": "https://localhost:8080/",
     "height": 455
    },
    "id": "86c8e8d0-e0b0-49e0-a04b-e33295eb94f2",
    "outputId": "9074c61d-327f-4351-e964-819c76f684a5"
   },
   "outputs": [],
   "source": [
    "# load and plot a time series\n",
    "timeseriesdf"
   ]
  },
  {
   "cell_type": "code",
   "execution_count": null,
   "metadata": {
    "colab": {
     "base_uri": "https://localhost:8080/",
     "height": 246
    },
    "id": "5ba43b38-5443-4907-abb4-0fbeb80de9f8",
    "outputId": "7cf1cbf6-782e-457d-8ecb-9f585d80ef49"
   },
   "outputs": [],
   "source": [
    "# line plot\n",
    "plt.subplot(221)\n",
    "plt.plot(timeseriesdf)\n",
    "\n",
    "# histogram\n",
    "plt.subplot(222)\n",
    "plt.hist(timeseriesdf)\n",
    "\n",
    "plt.show()"
   ]
  },
  {
   "cell_type": "markdown",
   "metadata": {
    "id": "1056a23f-8921-48a2-91d5-483455bcf5ae"
   },
   "source": [
    "#### Square Root Transform"
   ]
  },
  {
   "cell_type": "code",
   "execution_count": null,
   "metadata": {
    "colab": {
     "base_uri": "https://localhost:8080/",
     "height": 424
    },
    "id": "171cbf6f-7588-414e-8a34-788e8a404760",
    "outputId": "55ff9828-7a1d-4ea3-fa46-a393104b584b"
   },
   "outputs": [],
   "source": [
    "dataframe = pd.DataFrame(np.sqrt(timeseriesdf.values), columns = ['close'])\n",
    "dataframe"
   ]
  },
  {
   "cell_type": "code",
   "execution_count": null,
   "metadata": {
    "colab": {
     "base_uri": "https://localhost:8080/",
     "height": 246
    },
    "id": "86faa86f-392b-439a-8030-32df30aedfbc",
    "outputId": "dd1d36f4-0125-45aa-8d51-4fcf448b2906"
   },
   "outputs": [],
   "source": [
    "# line plot\n",
    "plt.subplot(221)\n",
    "plt.plot(dataframe['close'])\n",
    "\n",
    "# histogram\n",
    "plt.subplot(222)\n",
    "plt.hist(dataframe['close'])\n",
    "\n",
    "plt.show()"
   ]
  },
  {
   "cell_type": "markdown",
   "metadata": {
    "id": "95a2cbe3-563a-42ed-aed8-fdeadd7bf9db"
   },
   "source": [
    "#### Log Transform"
   ]
  },
  {
   "cell_type": "code",
   "execution_count": null,
   "metadata": {
    "colab": {
     "base_uri": "https://localhost:8080/",
     "height": 424
    },
    "id": "a765eaf3-b143-43c0-aea8-177d5cc515e6",
    "outputId": "43efc9be-669d-4bb1-96e6-e123adeb618a"
   },
   "outputs": [],
   "source": [
    "dataframe = pd.DataFrame(np.log(timeseriesdf.values), columns = ['close'])\n",
    "dataframe"
   ]
  },
  {
   "cell_type": "code",
   "execution_count": null,
   "metadata": {
    "colab": {
     "base_uri": "https://localhost:8080/",
     "height": 246
    },
    "id": "78993492-3c6c-41ef-ab9c-152fa179110f",
    "outputId": "78c81b78-9d67-4fae-fe1a-68c8c6c0542a"
   },
   "outputs": [],
   "source": [
    "# line plot\n",
    "plt.subplot(221)\n",
    "plt.plot(dataframe['close'])\n",
    "\n",
    "# histogram\n",
    "plt.subplot(222)\n",
    "plt.hist(dataframe['close'])\n",
    "plt.show()"
   ]
  },
  {
   "cell_type": "markdown",
   "metadata": {
    "id": "a4dd823c-2176-4f69-beda-ea217b2051b5"
   },
   "source": [
    "# Forecasting - Model Based"
   ]
  },
  {
   "cell_type": "code",
   "execution_count": null,
   "metadata": {
    "colab": {
     "base_uri": "https://localhost:8080/",
     "height": 455
    },
    "id": "369cf178-3565-4148-b1a6-1a886e797f39",
    "outputId": "d78a04c0-b1c2-44d2-baa4-065fee4500ce"
   },
   "outputs": [],
   "source": [
    "heatmapdata = data[['date','close']]\n",
    "heatmapdata['date'] = pd.to_datetime(heatmapdata['date'])\n",
    "heatmapdata"
   ]
  },
  {
   "cell_type": "code",
   "execution_count": null,
   "metadata": {
    "colab": {
     "base_uri": "https://localhost:8080/",
     "height": 455
    },
    "id": "1bea8ed1-1afc-4033-9f23-3b8112932079",
    "outputId": "21239add-fc53-4f90-8b83-c1ec57ac9355"
   },
   "outputs": [],
   "source": [
    "# Extracting Day, weekday name, month name, year from the Date column using \n",
    "# Date functions from pandas \n",
    "\n",
    "heatmapdata[\"month\"] = heatmapdata['date'].dt.strftime(\"%b\") # month extraction\n",
    "heatmapdata[\"year\"] = heatmapdata['date'].dt.strftime(\"%Y\") # year extraction\n",
    "heatmapdata[\"Day\"] = heatmapdata['date'].dt.strftime(\"%d\") # Day extraction\n",
    "heatmapdata[\"wkday\"] = heatmapdata['date'].dt.strftime(\"%A\") # weekday extraction\n",
    "\n",
    "heatmapdata"
   ]
  },
  {
   "cell_type": "code",
   "execution_count": null,
   "metadata": {
    "colab": {
     "base_uri": "https://localhost:8080/",
     "height": 676
    },
    "id": "2539dfbb-9f7e-4d2c-b782-62f9d6439155",
    "outputId": "1668ed43-a5af-4b43-c4b7-d1810e6a3cf0"
   },
   "outputs": [],
   "source": [
    "heatmap_y_month = pd.pivot_table(data = heatmapdata,\n",
    "                                 values = \"close\",\n",
    "                                 index = \"year\",\n",
    "                                 columns = \"month\",\n",
    "                                 aggfunc = \"mean\",\n",
    "                                 fill_value=0)\n",
    "heatmap_y_month1 = heatmap_y_month[['Jan','Feb','Mar','Apr','May','Jun','Jul','Aug','Sep','Oct','Nov','Dec']]\n",
    "heatmap_y_month1"
   ]
  },
  {
   "cell_type": "code",
   "execution_count": null,
   "metadata": {
    "colab": {
     "base_uri": "https://localhost:8080/",
     "height": 623
    },
    "id": "36181903-b202-4cc9-9c3e-4997f26c7ac2",
    "outputId": "b419c0a1-c12d-4efc-995b-86aa0ebcd5df"
   },
   "outputs": [],
   "source": [
    "plt.figure(figsize=(20,10))\n",
    "sns.heatmap(heatmap_y_month1,\n",
    "            annot=True,\n",
    "            fmt=\"g\",\n",
    "            cmap = 'icefire') "
   ]
  },
  {
   "cell_type": "code",
   "execution_count": null,
   "metadata": {
    "colab": {
     "base_uri": "https://localhost:8080/",
     "height": 326
    },
    "id": "4fc70f1e-2f28-4089-a25a-597ea875dacb",
    "outputId": "0e8fdbbf-c66c-4be2-8ff7-4d95f0512175"
   },
   "outputs": [],
   "source": [
    "# Boxplot for every\n",
    "plt.figure(figsize=(20,10))\n",
    "\n",
    "plt.subplot(221)\n",
    "sns.boxplot(x=\"month\",y=\"close\",data=heatmapdata)\n",
    "\n",
    "plt.subplot(222)\n",
    "sns.boxplot(x=\"year\",y=\"close\",data=heatmapdata)"
   ]
  },
  {
   "cell_type": "code",
   "execution_count": null,
   "metadata": {
    "colab": {
     "base_uri": "https://localhost:8080/",
     "height": 514
    },
    "id": "1067b034-0ab9-4929-b837-e8eaee90af12",
    "outputId": "f6d1f766-60b8-4188-d597-16b3c7e62c26",
    "scrolled": true
   },
   "outputs": [],
   "source": [
    "sns.lineplot(x=\"year\",y=\"close\",data=heatmapdata)"
   ]
  },
  {
   "cell_type": "markdown",
   "metadata": {
    "id": "8f50ff17-fed8-4b65-ad78-3f4e9c6e9095"
   },
   "source": [
    "#### Splitting data"
   ]
  },
  {
   "cell_type": "code",
   "execution_count": null,
   "metadata": {
    "colab": {
     "base_uri": "https://localhost:8080/",
     "height": 455
    },
    "id": "12fb659d-7f32-4ae5-92e9-596aa696b430",
    "outputId": "ebf4ba32-c829-45f2-f0e0-df7c740432fd"
   },
   "outputs": [],
   "source": [
    "data1 = heatmapdata\n",
    "data1"
   ]
  },
  {
   "cell_type": "code",
   "execution_count": null,
   "metadata": {
    "colab": {
     "base_uri": "https://localhost:8080/",
     "height": 424
    },
    "id": "a3181135-d15a-4592-8b42-b0b5e220a3b4",
    "outputId": "93fd0a2e-ca1e-4ea9-df8a-c07af0fff834"
   },
   "outputs": [],
   "source": [
    "data1['t'] = np.arange(1,data1.shape[0]+1)\n",
    "data1['t_square'] = np.square(data1.t)\n",
    "data1['log_close'] = np.log(data1.close)\n",
    "data2 = pd.get_dummies(data1['month'])\n",
    "data1 = pd.concat([data1, data2],axis=1)\n",
    "data1 = data1.reset_index(drop = True)\n",
    "data1"
   ]
  },
  {
   "cell_type": "code",
   "execution_count": null,
   "metadata": {
    "id": "4c106ede-1968-4f85-9e1c-a48992fe92b3"
   },
   "outputs": [],
   "source": [
    "# Using 3/4th data for training and remaining for testing\n",
    "test_size = round(0.25 * (data1.shape[0]+1))\n",
    "\n",
    "Train = data1[:-test_size]\n",
    "Test = data1[-test_size:]"
   ]
  },
  {
   "cell_type": "code",
   "execution_count": null,
   "metadata": {
    "colab": {
     "base_uri": "https://localhost:8080/",
     "height": 424
    },
    "id": "4bf4619e-6ae4-40c5-8ba0-b3377432fcaa",
    "outputId": "fbdb078e-67f6-468c-82c8-dacc1664dc9f"
   },
   "outputs": [],
   "source": [
    "Train"
   ]
  },
  {
   "cell_type": "code",
   "execution_count": null,
   "metadata": {
    "colab": {
     "base_uri": "https://localhost:8080/",
     "height": 424
    },
    "id": "e4241604-e392-4cba-bf7f-0508d1bdbf66",
    "outputId": "d4e15fcc-a75e-48d9-e4a2-4fb85db871e9"
   },
   "outputs": [],
   "source": [
    "Test"
   ]
  },
  {
   "cell_type": "markdown",
   "metadata": {
    "id": "q1sw9ZDyoioe"
   },
   "source": [
    "### Trying basic models"
   ]
  },
  {
   "cell_type": "code",
   "execution_count": null,
   "metadata": {
    "colab": {
     "base_uri": "https://localhost:8080/"
    },
    "id": "d3ca90fe-184e-4186-9ec1-90fa7b65a83b",
    "outputId": "111b85f5-b3b8-4ef6-c866-e414a0a45efe"
   },
   "outputs": [],
   "source": [
    "#Linear Model\n",
    "import statsmodels.formula.api as smf \n",
    "\n",
    "linear_model = smf.ols('close~t',data=Train).fit()\n",
    "pred_linear =  pd.Series(linear_model.predict(pd.DataFrame(Test['t'])))\n",
    "rmse_linear = np.sqrt(np.mean((np.array(Test['close'])-np.array(pred_linear))**2))\n",
    "rmse_linear"
   ]
  },
  {
   "cell_type": "code",
   "execution_count": null,
   "metadata": {
    "colab": {
     "base_uri": "https://localhost:8080/"
    },
    "id": "36e5d94f-d89f-44ec-bc87-687a40cf2bdf",
    "outputId": "4429a1ce-ab7f-44be-d8db-6d442b732730"
   },
   "outputs": [],
   "source": [
    "#Exponential\n",
    "Exp = smf.ols('log_close~t',data=Train).fit()\n",
    "pred_Exp = pd.Series(Exp.predict(pd.DataFrame(Test['t'])))\n",
    "rmse_Exp = np.sqrt(np.mean((np.array(Test['close'])-np.array(np.exp(pred_Exp)))**2))\n",
    "rmse_Exp"
   ]
  },
  {
   "cell_type": "code",
   "execution_count": null,
   "metadata": {
    "colab": {
     "base_uri": "https://localhost:8080/"
    },
    "id": "1b254aea-f442-4dfc-9ddf-f65d463ad3af",
    "outputId": "1af969b7-58b5-4884-c16c-7f08c1f6cbeb"
   },
   "outputs": [],
   "source": [
    "#Quadratic \n",
    "Quad = smf.ols('close~t+t_square',data=Train).fit()\n",
    "pred_Quad = pd.Series(Quad.predict(Test[[\"t\",\"t_square\"]]))\n",
    "rmse_Quad = np.sqrt(np.mean((np.array(Test['close'])-np.array(pred_Quad))**2))\n",
    "rmse_Quad"
   ]
  },
  {
   "cell_type": "code",
   "execution_count": null,
   "metadata": {
    "colab": {
     "base_uri": "https://localhost:8080/"
    },
    "id": "7a6fdc2b-7c18-4e3d-af78-b3449854b601",
    "outputId": "d12a1461-4325-4e4f-8bda-b996362c91fe"
   },
   "outputs": [],
   "source": [
    "#Additive seasonality \n",
    "add_sea = smf.ols('close~Jan+Feb+Mar+Apr+May+Jun+Jul+Aug+Sep+Oct+Nov',data=Train).fit()\n",
    "pred_add_sea = pd.Series(add_sea.predict(Test[['Jan','Feb','Mar','Apr','May','Jun','Jul','Aug','Sep','Oct','Nov']]))\n",
    "rmse_add_sea = np.sqrt(np.mean((np.array(Test['close'])-np.array(pred_add_sea))**2))\n",
    "rmse_add_sea"
   ]
  },
  {
   "cell_type": "code",
   "execution_count": null,
   "metadata": {
    "colab": {
     "base_uri": "https://localhost:8080/"
    },
    "id": "7f3fef17-7a7b-4b77-b638-3bf87b974509",
    "outputId": "2b23dee1-2eff-4a26-9865-c6b1b14d8187"
   },
   "outputs": [],
   "source": [
    "#Additive Seasonality Quadratic \n",
    "add_sea_Quad = smf.ols('close~t+t_square+Jan+Feb+Mar+Apr+May+Jun+Jul+Aug+Sep+Oct+Nov',data=Train).fit()\n",
    "pred_add_sea_quad = pd.Series(add_sea_Quad.predict(Test[['Jan','Feb','Mar','Apr','May','Jun','Jul','Aug','Sep','Oct','Nov','t','t_square']]))\n",
    "rmse_add_sea_quad = np.sqrt(np.mean((np.array(Test['close'])-np.array(pred_add_sea_quad))**2))\n",
    "rmse_add_sea_quad"
   ]
  },
  {
   "cell_type": "code",
   "execution_count": null,
   "metadata": {
    "colab": {
     "base_uri": "https://localhost:8080/"
    },
    "id": "6fe7ef48-582e-4f22-86f0-ddf387d641ef",
    "outputId": "1ca00a8c-0f5c-444b-b9c8-d9c1811c9feb"
   },
   "outputs": [],
   "source": [
    "##Multiplicative Seasonality\n",
    "Mul_sea = smf.ols('log_close~Jan+Feb+Mar+Apr+May+Jun+Jul+Aug+Sep+Oct+Nov',data = Train).fit()\n",
    "pred_Mult_sea = pd.Series(Mul_sea.predict(Test))\n",
    "rmse_Mult_sea = np.sqrt(np.mean((np.array(Test['close'])-np.array(np.exp(pred_Mult_sea)))**2))\n",
    "rmse_Mult_sea"
   ]
  },
  {
   "cell_type": "code",
   "execution_count": null,
   "metadata": {
    "colab": {
     "base_uri": "https://localhost:8080/"
    },
    "id": "ca96583e-5f4c-43de-8747-f8d3799d7005",
    "outputId": "22afd7b4-5557-4f93-cc0d-2fa8bf196948"
   },
   "outputs": [],
   "source": [
    "#Multiplicative Additive Seasonality \n",
    "Mul_Add_sea = smf.ols('log_close~t+Jan+Feb+Mar+Apr+May+Jun+Jul+Aug+Sep+Oct+Nov',data = Train).fit()\n",
    "pred_Mult_add_sea = pd.Series(Mul_Add_sea.predict(Test))\n",
    "rmse_Mult_add_sea = np.sqrt(np.mean((np.array(Test['close'])-np.array(np.exp(pred_Mult_add_sea)))**2))\n",
    "rmse_Mult_add_sea "
   ]
  },
  {
   "cell_type": "code",
   "execution_count": null,
   "metadata": {
    "colab": {
     "base_uri": "https://localhost:8080/",
     "height": 269
    },
    "id": "25a50092-6692-4d69-bcca-1b8a063db2cc",
    "outputId": "f8951ab1-d46f-48fa-c04a-7cfcf9665e08"
   },
   "outputs": [],
   "source": [
    "#Compare the results \n",
    "datamodel = {\"MODEL\":pd.Series([\"rmse_linear\",\"rmse_Exp\",\"rmse_Quad\",\"rmse_add_sea\",\"rmse_add_sea_quad\",\"rmse_Mult_sea\",\"rmse_Mult_add_sea\"]),\"RMSE_Values\":pd.Series([rmse_linear,rmse_Exp,rmse_Quad,rmse_add_sea,rmse_add_sea_quad,rmse_Mult_sea,rmse_Mult_add_sea])}\n",
    "table_rmse=pd.DataFrame(datamodel)\n",
    "table = table_rmse.sort_values(['RMSE_Values'],ignore_index = True)\n",
    "table"
   ]
  },
  {
   "cell_type": "code",
   "execution_count": null,
   "metadata": {
    "colab": {
     "base_uri": "https://localhost:8080/",
     "height": 35
    },
    "id": "tDf58gENqdfm",
    "outputId": "8e97d6c0-392d-4a08-ddc0-e3b213087012"
   },
   "outputs": [],
   "source": [
    "bestmodel = table.iloc[0,0]\n",
    "bestmodel\n",
    "\n",
    "if bestmodel == \"rmse_linear\" :\n",
    "  formula = 'close~t'\n",
    "\n",
    "if bestmodel == \"rmse_Exp\":\n",
    "  formula = 'log_close~t'\n",
    "\n",
    "if bestmodel == \"rmse_Quad\" :\n",
    "  formula = 'close~t+t_square'\n",
    "\n",
    "if bestmodel == \"rmse_add_sea\":\n",
    "  formula = 'close~Jan+Feb+Mar+Apr+May+Jun+Jul+Aug+Sep+Oct+Nov'\n",
    "\n",
    "if bestmodel == \"rmse_add_sea_quad\":\n",
    "  formula = 'close~t+t_square+Jan+Feb+Mar+Apr+May+Jun+Jul+Aug+Sep+Oct+Nov'\n",
    "\n",
    "if bestmodel == \"rmse_Mult_sea\":\n",
    "  formula = 'log_close~Jan+Feb+Mar+Apr+May+Jun+Jul+Aug+Sep+Oct+Nov'\n",
    "\n",
    "if bestmodel == \"rmse_Mult_add_sea\":\n",
    "  formula = 'log_close~t+Jan+Feb+Mar+Apr+May+Jun+Jul+Aug+Sep+Oct+Nov'\n",
    "\n",
    "formula"
   ]
  },
  {
   "cell_type": "code",
   "execution_count": null,
   "metadata": {
    "id": "3fe7eab9-1808-4852-abaf-1cc225d92004"
   },
   "outputs": [],
   "source": [
    "#Build the model on entire data set\n",
    "model_full = smf.ols(formula,data=data1).fit()"
   ]
  },
  {
   "cell_type": "code",
   "execution_count": null,
   "metadata": {
    "colab": {
     "base_uri": "https://localhost:8080/"
    },
    "id": "490835f6-0435-4103-9310-66206dfd56d7",
    "outputId": "581b6b33-1cd3-4004-87ee-a2ca29ab9caf"
   },
   "outputs": [],
   "source": [
    "pred_new  = pd.Series(model_full.predict(data1))\n",
    "pred_new"
   ]
  },
  {
   "cell_type": "code",
   "execution_count": null,
   "metadata": {
    "id": "17fab983-1e34-4939-8d19-93fde1413f44"
   },
   "outputs": [],
   "source": [
    "if bestmodel == \"rmse_Exp\" or \"rmse_Mult_sea\" or \"rmse_Mult_add_sea\":\n",
    "  data1[\"forecasted_close\"] = pd.Series(np.exp(pred_new))\n",
    "else:\n",
    "  data1[\"forecasted_close\"] = pd.Series((pred_new))"
   ]
  },
  {
   "cell_type": "code",
   "execution_count": null,
   "metadata": {
    "colab": {
     "base_uri": "https://localhost:8080/",
     "height": 518
    },
    "id": "b1757be2-6397-4420-bcf1-4d7c079fb246",
    "outputId": "bd4c114b-044f-4ebb-986e-9fc8bcc97b73"
   },
   "outputs": [],
   "source": [
    "plt.figure(figsize = (20,8))\n",
    "\n",
    "plt.plot(data1[['close','forecasted_close']].reset_index(drop=True))"
   ]
  },
  {
   "cell_type": "code",
   "execution_count": null,
   "metadata": {
    "colab": {
     "base_uri": "https://localhost:8080/",
     "height": 424
    },
    "id": "bM758_Hbd1fW",
    "outputId": "8ecf5bfa-3ac8-4fab-a6af-7a40f741f825"
   },
   "outputs": [],
   "source": [
    "data1"
   ]
  },
  {
   "cell_type": "markdown",
   "metadata": {
    "id": "73cff27d-a649-47d7-82b1-1d45718b85fa"
   },
   "source": [
    "# Forecasting - Data Driven"
   ]
  },
  {
   "cell_type": "code",
   "execution_count": null,
   "metadata": {
    "id": "fa73f494-dbab-4f41-a28f-1aa0adf00669"
   },
   "outputs": [],
   "source": [
    "import statsmodels.graphics.tsaplots as tsa_plots\n",
    "from statsmodels.tsa.seasonal import seasonal_decompose\n",
    "from statsmodels.tsa.holtwinters import SimpleExpSmoothing # SES\n",
    "from statsmodels.tsa.holtwinters import Holt # Holts Exponential Smoothing\n",
    "from statsmodels.tsa.holtwinters import ExponentialSmoothing \n"
   ]
  },
  {
   "cell_type": "markdown",
   "metadata": {
    "id": "c7ff15bf-0e35-4719-a267-943f353e1a16"
   },
   "source": [
    "#### Moving Average "
   ]
  },
  {
   "cell_type": "code",
   "execution_count": null,
   "metadata": {
    "colab": {
     "base_uri": "https://localhost:8080/",
     "height": 415
    },
    "id": "8ae3c9e7-430f-4f83-a85e-338a78b2d861",
    "outputId": "b0f3ee7b-5068-4ba9-a9ca-c9faee9fedd7"
   },
   "outputs": [],
   "source": [
    "x=20\n",
    "\n",
    "plt.figure(figsize=(24,7))\n",
    "data1['close'].plot(label=\"org\")\n",
    "data1[\"close\"].rolling(x).mean().plot(label=str(x))\n",
    "plt.legend(loc='best')"
   ]
  },
  {
   "cell_type": "code",
   "execution_count": null,
   "metadata": {
    "colab": {
     "base_uri": "https://localhost:8080/",
     "height": 415
    },
    "id": "8c967119-b6f5-45e7-b16b-ff475fb9af33",
    "outputId": "fc017634-2721-4602-fcc0-64dcf73b4ddd"
   },
   "outputs": [],
   "source": [
    "plt.figure(figsize=(24,7))\n",
    "data1['close'].plot(label=\"org\")\n",
    "for i in range(50,201,50):\n",
    "    data1[\"close\"].rolling(i).mean().plot(label=str(i))\n",
    "plt.legend(loc='best')"
   ]
  },
  {
   "cell_type": "markdown",
   "metadata": {
    "id": "081c5381-8456-4436-a514-55998eeb208d"
   },
   "source": [
    "#### Time series decomposition plot \n"
   ]
  },
  {
   "cell_type": "code",
   "execution_count": null,
   "metadata": {
    "colab": {
     "base_uri": "https://localhost:8080/",
     "height": 526
    },
    "id": "74ec2c67-a6c8-4ad5-b6ef-35b2e9eea360",
    "outputId": "7ce57d90-6381-40ae-cadb-9f7967c3e69c"
   },
   "outputs": [],
   "source": [
    "decompose_ts_add = seasonal_decompose(data1['close'], period = 365)\n",
    "decompose_ts_add.plot()\n",
    "\n",
    "plt.show()"
   ]
  },
  {
   "cell_type": "markdown",
   "metadata": {
    "id": "9668c2f9-402c-493c-9916-dfa0f9c63b44"
   },
   "source": [
    "#### ACF plots and PACF plots\n"
   ]
  },
  {
   "cell_type": "code",
   "execution_count": null,
   "metadata": {
    "colab": {
     "base_uri": "https://localhost:8080/",
     "height": 981
    },
    "id": "33f63a98-f562-46d9-9e4c-05d0e6bb9805",
    "outputId": "0ae6110b-a71d-4397-f3c0-1ccfe0e02bfa"
   },
   "outputs": [],
   "source": [
    "tsa_plots.plot_acf(data1.close,lags=350)\n",
    "tsa_plots.plot_pacf(data1.close,lags=350)\n",
    "plt.show()"
   ]
  },
  {
   "cell_type": "markdown",
   "metadata": {
    "id": "f10dcd76-4836-47b2-b1c9-58b66ab5a6e7"
   },
   "source": [
    "### Evaluation Metric RMSE"
   ]
  },
  {
   "cell_type": "code",
   "execution_count": null,
   "metadata": {
    "id": "171e4a22-6511-4025-b450-c46450a05fb4"
   },
   "outputs": [],
   "source": [
    "def RMSE(pred,org):\n",
    "  MSE = np.square(np.subtract(org,pred)).mean()   \n",
    "  return np.sqrt(MSE) "
   ]
  },
  {
   "cell_type": "markdown",
   "metadata": {
    "id": "60df2ff2-c872-4a8b-a7a6-831b9ac9f003"
   },
   "source": [
    "### Simple Exponential Method\n"
   ]
  },
  {
   "cell_type": "code",
   "execution_count": null,
   "metadata": {
    "colab": {
     "base_uri": "https://localhost:8080/"
    },
    "id": "70f4c0b7-136d-44e4-903e-79408c94ea6b",
    "outputId": "460e2eda-737f-4ebc-94e9-cf6533e27c90"
   },
   "outputs": [],
   "source": [
    "ses_model = SimpleExpSmoothing(Train[\"close\"]).fit(smoothing_level=0.2)\n",
    "pred_ses = ses_model.predict(start = Test.index[0],end = Test.index[-1])\n",
    "RMSE(pred_ses,Test.close)"
   ]
  },
  {
   "cell_type": "markdown",
   "metadata": {
    "id": "b2ed989b-24d2-4702-a34a-d8389afc98de"
   },
   "source": [
    "### Holt method "
   ]
  },
  {
   "cell_type": "code",
   "execution_count": null,
   "metadata": {
    "colab": {
     "base_uri": "https://localhost:8080/"
    },
    "id": "cca1017a-3732-4a9c-a230-9dca0257d79b",
    "outputId": "1c645a85-5896-49d2-9db0-fc245a7f3e95"
   },
   "outputs": [],
   "source": [
    "# Holt method \n",
    "hw_model = Holt(Train[\"close\"]).fit(smoothing_level=0.8, smoothing_slope=0.2)\n",
    "pred_hw = hw_model.predict(start = Test.index[0],end = Test.index[-1])\n",
    "RMSE(pred_hw,Test.close) "
   ]
  },
  {
   "cell_type": "markdown",
   "metadata": {
    "id": "a77c81ce-471f-459a-bca2-db1ac14336ac"
   },
   "source": [
    "### Holts winter exponential smoothing with additive seasonality and additive trend\n"
   ]
  },
  {
   "cell_type": "code",
   "execution_count": null,
   "metadata": {
    "colab": {
     "base_uri": "https://localhost:8080/"
    },
    "id": "95b0c24d-d103-4b74-b283-e16825f0d682",
    "outputId": "4f25b7ab-9781-4644-84c3-cbe444f79ab1"
   },
   "outputs": [],
   "source": [
    "hwe_model_add_add = ExponentialSmoothing(Train[\"close\"],seasonal=\"add\",trend=\"add\",seasonal_periods=365).fit() #add the trend to the model\n",
    "pred_hwe_add_add = hwe_model_add_add.predict(start = Test.index[0],end = Test.index[-1])\n",
    "RMSE(pred_hwe_add_add,Test.close) "
   ]
  },
  {
   "cell_type": "markdown",
   "metadata": {
    "id": "8d2272ac-85bd-425d-8351-f062f39e9b2a"
   },
   "source": [
    "### Holts winter exponential smoothing with multiplicative seasonality and additive trend"
   ]
  },
  {
   "cell_type": "code",
   "execution_count": null,
   "metadata": {
    "id": "4e6ab34a-90b4-41f7-bed6-ee0cf3e5ab1e"
   },
   "outputs": [],
   "source": [
    "hwe_model_mul_add = ExponentialSmoothing(Train[\"close\"],seasonal=\"mul\",trend=\"add\",seasonal_periods=365).fit() \n",
    "pred_hwe_mul_add = hwe_model_mul_add.predict(start = Test.index[0],end = Test.index[-1])\n",
    "RMSE(pred_hwe_mul_add,Test.close)"
   ]
  },
  {
   "cell_type": "markdown",
   "metadata": {
    "id": "42bfc98f-821e-4a3e-b2ec-edf00d84763c"
   },
   "source": [
    "### Final Model by combining train and test"
   ]
  },
  {
   "cell_type": "code",
   "execution_count": null,
   "metadata": {
    "id": "fe97ed3c-b965-49ca-8298-bdbb7cc6b330"
   },
   "outputs": [],
   "source": [
    "hwe_model_mul_add = ExponentialSmoothing(data[\"close\"],seasonal=\"mul\",trend=\"add\",seasonal_periods=365).fit()"
   ]
  },
  {
   "cell_type": "code",
   "execution_count": null,
   "metadata": {
    "id": "bab5970e-a749-465d-a39b-6ea343bb35b5"
   },
   "outputs": [],
   "source": [
    "#Forecasting for next 12 time periods\n",
    "forecasted = hwe_model_mul_add.forecast(730)"
   ]
  },
  {
   "cell_type": "code",
   "execution_count": null,
   "metadata": {
    "id": "9c758da2-5d7a-4490-a541-627f083fea2d"
   },
   "outputs": [],
   "source": [
    "plt.figure(figsize=(24,7))\n",
    "plt.plot(data1.close, label = \"Actual\")\n",
    "plt.plot(forecasted, label = \"Forecasted\")\n",
    "plt.legend()"
   ]
  },
  {
   "cell_type": "markdown",
   "metadata": {
    "id": "7d33c69c-4a43-43a8-8ce1-1b3bc0db0ffb"
   },
   "source": [
    "# Forecasting using ARIMA model"
   ]
  },
  {
   "cell_type": "code",
   "execution_count": null,
   "metadata": {
    "id": "1adf3942-a5d6-4315-bd75-b215e7813a3f"
   },
   "outputs": [],
   "source": [
    "# Import libraries\n",
    "import itertools\n",
    "from math import sqrt\n",
    "import statsmodels.api as sm\n",
    "from sklearn.metrics import mean_squared_error\n",
    "from statsmodels.tsa.arima.model import ARIMA, ARIMAResults\n",
    "from statsmodels.tsa.stattools import adfuller\n",
    "from statsmodels.tsa.seasonal import seasonal_decompose\n",
    "from pandas.plotting import register_matplotlib_converters\n",
    "register_matplotlib_converters()"
   ]
  },
  {
   "cell_type": "code",
   "execution_count": null,
   "metadata": {
    "id": "1ulsmbHFVHXd"
   },
   "outputs": [],
   "source": [
    "# Perform Augmented Dickey-Fuller unit root test\n",
    "result = adfuller(data1['close'])\n",
    "\n",
    "print('ADF Statistic: {}'.format(result[0]))\n",
    "print('p-value: {}'.format(result[1]))\n",
    "print('Critical Values:')\n",
    "for key, value in result[4].items():\n",
    "    print('\\t{}: {}'.format(key, value))"
   ]
  },
  {
   "cell_type": "code",
   "execution_count": null,
   "metadata": {
    "id": "u44FUp30V7GR"
   },
   "outputs": [],
   "source": [
    "# P-Value is higher than 0.05\n",
    "# Check if series is stationary\n",
    "\n",
    "def get_stationarity(timeseriessq):\n",
    "    \n",
    "    # rolling statistics\n",
    "    rolling_mean = timeseriessq.rolling(window=365).mean()\n",
    "    rolling_std = timeseriessq.rolling(window=365).std()\n",
    "    \n",
    "    # rolling statistics plot\n",
    "    original = plt.plot(timeseriessq, color='blue', label='Original')\n",
    "    mean = plt.plot(rolling_mean, color='red', label='Rolling Mean')\n",
    "    std = plt.plot(rolling_std, color='black', label='Rolling Std')\n",
    "    plt.legend(loc='best')\n",
    "    plt.title('Rolling Mean & Standard Deviation')\n",
    "    plt.show(block=False)\n",
    "    \n",
    "    # Dickey–Fuller test:\n",
    "    result = adfuller(timeseriessq)\n",
    "    print('ADF Statistic: {}'.format(result[0]))\n",
    "    print('p-value: {}'.format(result[1]))\n",
    "    print('Critical Values:')\n",
    "    for key, value in result[4].items():\n",
    "        print('\\t{}: {}'.format(key, value))"
   ]
  },
  {
   "cell_type": "code",
   "execution_count": null,
   "metadata": {
    "id": "uOOmlTebW_UN"
   },
   "outputs": [],
   "source": [
    "rolling_mean = data1['log_close'].rolling(window=365).mean()\n",
    "data1_log_minus_mean = data1['log_close'] - rolling_mean\n",
    "data1_log_minus_mean.dropna(inplace=True)\n",
    "\n",
    "get_stationarity(data1_log_minus_mean)"
   ]
  },
  {
   "cell_type": "code",
   "execution_count": null,
   "metadata": {
    "id": "8kjkBzdRYuoB"
   },
   "outputs": [],
   "source": [
    "rolling_mean_exp_decay = data1['log_close'].ewm(halflife=365, min_periods=0, adjust=True).mean()\n",
    "df_log_exp_decay = data1['log_close'] - rolling_mean_exp_decay\n",
    "df_log_exp_decay.dropna(inplace=True)\n",
    "\n",
    "get_stationarity(df_log_exp_decay)"
   ]
  },
  {
   "cell_type": "code",
   "execution_count": null,
   "metadata": {
    "id": "izbGfVWSZNE6"
   },
   "outputs": [],
   "source": [
    "# Above tests show that the timeseries is not stationary.\n",
    "# still performing ARIMA"
   ]
  },
  {
   "cell_type": "markdown",
   "metadata": {
    "id": "39edd583-3667-465b-8f4b-0bd059b1aeea"
   },
   "source": [
    "#### Persistence/ Base model"
   ]
  },
  {
   "cell_type": "code",
   "execution_count": null,
   "metadata": {
    "id": "1e268b5e-f89b-4258-9945-db53be66bae8"
   },
   "outputs": [],
   "source": [
    "# evaluate a persistence model\n",
    "print('Dataset %d, Validation %d' % (len(Train), len(Test)))"
   ]
  },
  {
   "cell_type": "code",
   "execution_count": null,
   "metadata": {
    "id": "01161e04-c3ec-4d95-a681-b8644985b9bf"
   },
   "outputs": [],
   "source": [
    "# prepare data\n",
    "train = Train.close.values.astype('float32')\n",
    "train"
   ]
  },
  {
   "cell_type": "code",
   "execution_count": null,
   "metadata": {
    "id": "64cc1c8a-35ba-4643-8441-5a05b83f25f8"
   },
   "outputs": [],
   "source": [
    "test = Test.close.values.astype('float32')\n",
    "test"
   ]
  },
  {
   "cell_type": "code",
   "execution_count": null,
   "metadata": {
    "id": "9a98262c-0c91-4fd8-a801-d44340bf7ee3"
   },
   "outputs": [],
   "source": [
    "# walk-forward validation\n",
    "history = [x for x in train]\n",
    "history"
   ]
  },
  {
   "cell_type": "markdown",
   "metadata": {
    "id": "0193a304-d441-4454-9610-cbf054305ceb"
   },
   "source": [
    "#### Naive Predictions"
   ]
  },
  {
   "cell_type": "code",
   "execution_count": null,
   "metadata": {
    "id": "de9b3a92-fd1b-40cb-a337-0a1cab459bbe"
   },
   "outputs": [],
   "source": [
    "predictions = list()\n",
    "\n",
    "for i in range(len(test)):\n",
    "    yhat = history[-1]\n",
    "    predictions.append(yhat)\n",
    "    \n",
    "    # observation\n",
    "    obs = test[i]\n",
    "    history.append(obs)\n",
    "    \n",
    "    print('>Predicted=%.3f, Expected=%.3f' % (yhat, obs))"
   ]
  },
  {
   "cell_type": "code",
   "execution_count": null,
   "metadata": {
    "id": "cb7b3969-cf8e-4509-a4af-43263d125d11"
   },
   "outputs": [],
   "source": [
    "# report performance\n",
    "rmse = sqrt(mean_squared_error(test, predictions))\n",
    "print('RMSE: %.3f' % rmse)"
   ]
  },
  {
   "cell_type": "markdown",
   "metadata": {
    "id": "5adfef3f-df4b-4d31-84d4-a039cf68b90a"
   },
   "source": [
    "# Auto ARIMA"
   ]
  },
  {
   "cell_type": "code",
   "execution_count": null,
   "metadata": {
    "colab": {
     "base_uri": "https://localhost:8080/"
    },
    "id": "d8cbd9e7-34db-41ee-abd2-1826e98dda9f",
    "outputId": "a20adb1b-c3b9-43cb-ed40-495c81d93ec4"
   },
   "outputs": [],
   "source": [
    "# load dataset\n",
    "train = Train.close.squeeze()\n",
    "train"
   ]
  },
  {
   "cell_type": "code",
   "execution_count": null,
   "metadata": {
    "id": "e6aa996d-b81a-4885-a144-e44e2db3ba39"
   },
   "outputs": [],
   "source": [
    "#Standard ARIMA Model\n",
    "ARIMA_model = pm.auto_arima(data1['close'], \n",
    "                      start_p=1, \n",
    "                      start_q=1,\n",
    "                      test='adf', # use adftest to find optimal 'd'\n",
    "                      max_p=3, max_q=3, # maximum p and q\n",
    "                      m=1, # frequency of series (if m==1, seasonal is set to FALSE automatically)\n",
    "                      d=None,# let model determine 'd'\n",
    "                      seasonal=False, # No Seasonality for standard ARIMA\n",
    "                      trace=False, #logs \n",
    "                      error_action='warn', #shows errors ('ignore' silences these)\n",
    "                      suppress_warnings=True,\n",
    "                      stepwise=True)"
   ]
  },
  {
   "cell_type": "code",
   "execution_count": null,
   "metadata": {
    "id": "Rypi47RlqZe6"
   },
   "outputs": [],
   "source": [
    "ARIMA_model.plot_diagnostics(figsize=(20,12))\n",
    "plt.show()"
   ]
  },
  {
   "cell_type": "code",
   "execution_count": null,
   "metadata": {
    "id": "wAaevRfAqzZ3"
   },
   "outputs": [],
   "source": [
    "from pandas.tseries.frequencies import DAYS\n",
    "def forecast(ARIMA_model, periods=730):\n",
    "    # Forecast\n",
    "    n_periods = periods\n",
    "    fitted, confint = ARIMA_model.predict(n_periods=n_periods, return_conf_int=True)\n",
    "    index_of_fc = pd.date_range(data.index[-1] + pd.DateOffset(days=1), periods = n_periods, freq='D')\n",
    "    \n",
    "    # make series for plotting purpose\n",
    "    fitted_series = pd.Series(fitted.values, index=index_of_fc)\n",
    "    lower_series = pd.Series(confint[:, 0], index=index_of_fc)\n",
    "    upper_series = pd.Series(confint[:, 1], index=index_of_fc)\n",
    "\n",
    "    # Plot\n",
    "    plt.figure(figsize=(15,7))\n",
    "    plt.plot(data[\"close\"])\n",
    "    plt.plot(fitted_series, color='darkgreen')\n",
    "    plt.fill_between(lower_series.index, \n",
    "                    lower_series, \n",
    "                    upper_series, \n",
    "                    color='k', alpha=.15)\n",
    "\n",
    "    plt.title(\"ARIMA - Forecast of Close Price\")\n",
    "    plt.show()\n",
    "\n",
    "forecast(ARIMA_model)"
   ]
  },
  {
   "cell_type": "markdown",
   "metadata": {
    "id": "dab1cabf-1dc4-40a6-b222-0f9036f28f58"
   },
   "source": [
    "#### Build Model based on the optimized values"
   ]
  },
  {
   "cell_type": "code",
   "execution_count": null,
   "metadata": {
    "id": "863f9719-7a6e-4eb3-83e1-50ae89ba23e4"
   },
   "outputs": [],
   "source": [
    "from statsmodels.graphics.tsaplots import plot_predict\n",
    "plot_predict(ARIMA_model,1,96)"
   ]
  },
  {
   "cell_type": "markdown",
   "metadata": {
    "id": "yXwWYuR8NIYG"
   },
   "source": [
    "#SARIMA"
   ]
  },
  {
   "cell_type": "markdown",
   "metadata": {
    "id": "OGubMNBfNbbh"
   },
   "source": [
    "#SARIMAX"
   ]
  },
  {
   "cell_type": "markdown",
   "metadata": {
    "id": "Sy9gSxBeNbYO"
   },
   "source": [
    "#VAR"
   ]
  },
  {
   "cell_type": "markdown",
   "metadata": {
    "id": "8VVwS2AINbUp"
   },
   "source": [
    "#VARMA"
   ]
  },
  {
   "cell_type": "markdown",
   "metadata": {
    "id": "Quq-7hSuNbFg"
   },
   "source": [
    "#VARMAX"
   ]
  },
  {
   "cell_type": "markdown",
   "metadata": {
    "id": "LfWnlkGuN-0J"
   },
   "source": [
    "#LSTM ANN"
   ]
  },
  {
   "cell_type": "markdown",
   "metadata": {
    "id": "pY54tSySUc8W"
   },
   "source": [
    "#FB PROPHET"
   ]
  },
  {
   "cell_type": "code",
   "execution_count": null,
   "metadata": {
    "id": "ZzVgv_W1N4XN"
   },
   "outputs": [],
   "source": []
  }
 ],
 "metadata": {
  "colab": {
   "collapsed_sections": [],
   "provenance": []
  },
  "kernelspec": {
   "display_name": "Python 3 (ipykernel)",
   "language": "python",
   "name": "python3"
  },
  "language_info": {
   "codemirror_mode": {
    "name": "ipython",
    "version": 3
   },
   "file_extension": ".py",
   "mimetype": "text/x-python",
   "name": "python",
   "nbconvert_exporter": "python",
   "pygments_lexer": "ipython3",
   "version": "3.9.12"
  }
 },
 "nbformat": 4,
 "nbformat_minor": 1
}
